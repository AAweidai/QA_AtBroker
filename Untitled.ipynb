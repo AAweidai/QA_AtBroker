{
 "cells": [
  {
   "cell_type": "code",
   "execution_count": 1,
   "metadata": {},
   "outputs": [],
   "source": [
    "\n",
    "import os\n",
    "import platform\n",
    "import sys\n",
    "from time import sleep\n",
    "\n",
    "import py_ctp.ctp_struct as ctp\n",
    "from py_ctp.ctp_quote import Quote\n",
    "from py_ctp.ctp_trade import Trade\n",
    "\n",
    "import _thread\n",
    "import threading\n",
    "import pandas as pd\n",
    "import numpy as np\n",
    "import QUANTAXIS as QA\n",
    "from QUANTAXIS.QAMarket.QABroker import QA_Broker\n",
    "\n",
    "sys.path.append(QA.QASetting.QALocalize.bin_path)  # 调用QA_Binpath下的dll\n",
    "\n"
   ]
  },
  {
   "cell_type": "code",
   "execution_count": 3,
   "metadata": {},
   "outputs": [],
   "source": [
    "investor='008107'\n",
    "pwd='1'\n",
    "broker='9999'\n",
    "front_md='tcp://180.168.146.187:10031'\n",
    "front_td='tcp://180.168.146.187:10030'"
   ]
  },
  {
   "cell_type": "code",
   "execution_count": 4,
   "metadata": {},
   "outputs": [],
   "source": [
    "req = 0\n",
    "ordered = False\n",
    "needAuth = False\n",
    "RelogEnable = True\n",
    "broker = broker\n",
    "investor = investor\n",
    "pwd = pwd\n",
    "front_md = front_md\n",
    "front_td = front_td\n",
    "market_data = []\n",
    "min_t = 0"
   ]
  },
  {
   "cell_type": "code",
   "execution_count": 18,
   "metadata": {},
   "outputs": [
    {
     "name": "stdout",
     "output_type": "stream",
     "text": [
      "C:\\Users\\yutia\\.quantaxis\\bin\\py_ctp_at\\ctp_trade.dll\n"
     ]
    }
   ],
   "source": [
    "con_path = '{}{}{}'.format(\n",
    "    QA.QASetting.QALocalize.cache_path, os.sep, 'at_ctp')\n",
    "os.makedirs(con_path, exist_ok=True)\n",
    "\n",
    "trade_con_path = '{}{}{}'.format(\n",
    "    con_path, os.sep, investor)\n",
    "os.makedirs(trade_con_path, exist_ok=True)\n",
    "\n",
    "dllpath = os.path.join(\n",
    "    QA.QASetting.QALocalize.bin_path, 'py_ctp_at')\n",
    "\n",
    "q = Quote(os.path.join(dllpath, 'ctp_quote.' +\n",
    "                            ('dll' if 'Windows' in platform.system() else 'so')))\n",
    "t = Trade(os.path.join(dllpath, 'ctp_trade.' +\n",
    "                            ('dll' if 'Windows' in platform.system() else 'so')))\n",
    "\n",
    "t.CreateApi(trade_con_path)\n",
    "t_spi = t.CreateSpi()\n",
    "t.RegisterSpi(t_spi)\n",
    "q.CreateApi(con_path)\n",
    "q_spi = q.CreateSpi()\n",
    "q.RegisterSpi(q_spi)\n",
    "\n"
   ]
  },
  {
   "cell_type": "code",
   "execution_count": 7,
   "metadata": {},
   "outputs": [],
   "source": [
    "z1= {'code':'RB1901','time':111}\n",
    "z2= {'code':'RB1901','time':112}"
   ]
  },
  {
   "cell_type": "code",
   "execution_count": 16,
   "metadata": {},
   "outputs": [],
   "source": [
    "z1.update(z2)"
   ]
  },
  {
   "cell_type": "code",
   "execution_count": 17,
   "metadata": {},
   "outputs": [
    {
     "data": {
      "text/plain": [
       "{'code': 'RB1901', 'time': 112}"
      ]
     },
     "execution_count": 17,
     "metadata": {},
     "output_type": "execute_result"
    }
   ],
   "source": [
    "z1"
   ]
  },
  {
   "cell_type": "code",
   "execution_count": null,
   "metadata": {},
   "outputs": [],
   "source": []
  },
  {
   "cell_type": "code",
   "execution_count": null,
   "metadata": {},
   "outputs": [],
   "source": []
  }
 ],
 "metadata": {
  "kernelspec": {
   "display_name": "Python 3",
   "language": "python",
   "name": "python3"
  },
  "language_info": {
   "codemirror_mode": {
    "name": "ipython",
    "version": 3
   },
   "file_extension": ".py",
   "mimetype": "text/x-python",
   "name": "python",
   "nbconvert_exporter": "python",
   "pygments_lexer": "ipython3",
   "version": "3.6.7"
  }
 },
 "nbformat": 4,
 "nbformat_minor": 2
}
